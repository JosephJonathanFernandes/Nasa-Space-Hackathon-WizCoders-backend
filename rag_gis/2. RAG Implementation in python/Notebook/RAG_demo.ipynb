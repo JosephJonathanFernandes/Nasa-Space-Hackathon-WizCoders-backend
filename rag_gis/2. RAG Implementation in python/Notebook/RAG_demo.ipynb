{
 "cells": [
  {
   "cell_type": "markdown",
   "id": "51d8c674",
   "metadata": {},
   "source": [
    "### Data Intake"
   ]
  },
  {
   "cell_type": "code",
   "execution_count": 12,
   "id": "463af78a",
   "metadata": {},
   "outputs": [
    {
     "name": "stdout",
     "output_type": "stream",
     "text": [
      "Requirement already satisfied: pypdf in c:\\users\\gcf17\\desktop\\rag\\.venv\\lib\\site-packages (6.1.1)Note: you may need to restart the kernel to use updated packages.\n",
      "\n",
      "Requirement already satisfied: typing_extensions>=4.0 in c:\\users\\gcf17\\desktop\\rag\\.venv\\lib\\site-packages (from pypdf) (4.15.0)\n",
      "Requirement already satisfied: langchain_community in c:\\users\\gcf17\\desktop\\rag\\.venv\\lib\\site-packages (0.3.30)\n",
      "Requirement already satisfied: langchain-core<2.0.0,>=0.3.75 in c:\\users\\gcf17\\desktop\\rag\\.venv\\lib\\site-packages (from langchain_community) (0.3.78)\n",
      "Requirement already satisfied: langchain<2.0.0,>=0.3.27 in c:\\users\\gcf17\\desktop\\rag\\.venv\\lib\\site-packages (from langchain_community) (0.3.27)\n",
      "Requirement already satisfied: SQLAlchemy<3.0.0,>=1.4.0 in c:\\users\\gcf17\\desktop\\rag\\.venv\\lib\\site-packages (from langchain_community) (2.0.43)\n",
      "Requirement already satisfied: requests<3.0.0,>=2.32.5 in c:\\users\\gcf17\\desktop\\rag\\.venv\\lib\\site-packages (from langchain_community) (2.32.5)\n",
      "Requirement already satisfied: PyYAML<7.0.0,>=5.3.0 in c:\\users\\gcf17\\desktop\\rag\\.venv\\lib\\site-packages (from langchain_community) (6.0.3)\n",
      "Requirement already satisfied: aiohttp<4.0.0,>=3.8.3 in c:\\users\\gcf17\\desktop\\rag\\.venv\\lib\\site-packages (from langchain_community) (3.12.15)\n",
      "Requirement already satisfied: tenacity!=8.4.0,<10.0.0,>=8.1.0 in c:\\users\\gcf17\\desktop\\rag\\.venv\\lib\\site-packages (from langchain_community) (9.1.2)\n",
      "Requirement already satisfied: dataclasses-json<0.7.0,>=0.6.7 in c:\\users\\gcf17\\desktop\\rag\\.venv\\lib\\site-packages (from langchain_community) (0.6.7)\n",
      "Requirement already satisfied: pydantic-settings<3.0.0,>=2.10.1 in c:\\users\\gcf17\\desktop\\rag\\.venv\\lib\\site-packages (from langchain_community) (2.11.0)\n",
      "Requirement already satisfied: langsmith<1.0.0,>=0.1.125 in c:\\users\\gcf17\\desktop\\rag\\.venv\\lib\\site-packages (from langchain_community) (0.4.32)\n",
      "Requirement already satisfied: httpx-sse<1.0.0,>=0.4.0 in c:\\users\\gcf17\\desktop\\rag\\.venv\\lib\\site-packages (from langchain_community) (0.4.1)\n",
      "Requirement already satisfied: numpy>=1.26.2 in c:\\users\\gcf17\\desktop\\rag\\.venv\\lib\\site-packages (from langchain_community) (2.2.6)\n",
      "Requirement already satisfied: aiohappyeyeballs>=2.5.0 in c:\\users\\gcf17\\desktop\\rag\\.venv\\lib\\site-packages (from aiohttp<4.0.0,>=3.8.3->langchain_community) (2.6.1)\n",
      "Requirement already satisfied: aiosignal>=1.4.0 in c:\\users\\gcf17\\desktop\\rag\\.venv\\lib\\site-packages (from aiohttp<4.0.0,>=3.8.3->langchain_community) (1.4.0)\n",
      "Requirement already satisfied: async-timeout<6.0,>=4.0 in c:\\users\\gcf17\\desktop\\rag\\.venv\\lib\\site-packages (from aiohttp<4.0.0,>=3.8.3->langchain_community) (4.0.3)\n",
      "Requirement already satisfied: attrs>=17.3.0 in c:\\users\\gcf17\\desktop\\rag\\.venv\\lib\\site-packages (from aiohttp<4.0.0,>=3.8.3->langchain_community) (25.3.0)\n",
      "Requirement already satisfied: frozenlist>=1.1.1 in c:\\users\\gcf17\\desktop\\rag\\.venv\\lib\\site-packages (from aiohttp<4.0.0,>=3.8.3->langchain_community) (1.7.0)\n",
      "Requirement already satisfied: multidict<7.0,>=4.5 in c:\\users\\gcf17\\desktop\\rag\\.venv\\lib\\site-packages (from aiohttp<4.0.0,>=3.8.3->langchain_community) (6.6.4)\n",
      "Requirement already satisfied: propcache>=0.2.0 in c:\\users\\gcf17\\desktop\\rag\\.venv\\lib\\site-packages (from aiohttp<4.0.0,>=3.8.3->langchain_community) (0.4.0)\n",
      "Requirement already satisfied: yarl<2.0,>=1.17.0 in c:\\users\\gcf17\\desktop\\rag\\.venv\\lib\\site-packages (from aiohttp<4.0.0,>=3.8.3->langchain_community) (1.20.1)\n",
      "Requirement already satisfied: marshmallow<4.0.0,>=3.18.0 in c:\\users\\gcf17\\desktop\\rag\\.venv\\lib\\site-packages (from dataclasses-json<0.7.0,>=0.6.7->langchain_community) (3.26.1)\n",
      "Requirement already satisfied: typing-inspect<1,>=0.4.0 in c:\\users\\gcf17\\desktop\\rag\\.venv\\lib\\site-packages (from dataclasses-json<0.7.0,>=0.6.7->langchain_community) (0.9.0)\n",
      "Requirement already satisfied: langchain-text-splitters<1.0.0,>=0.3.9 in c:\\users\\gcf17\\desktop\\rag\\.venv\\lib\\site-packages (from langchain<2.0.0,>=0.3.27->langchain_community) (0.3.11)\n",
      "Requirement already satisfied: pydantic<3.0.0,>=2.7.4 in c:\\users\\gcf17\\desktop\\rag\\.venv\\lib\\site-packages (from langchain<2.0.0,>=0.3.27->langchain_community) (2.11.10)\n",
      "Requirement already satisfied: jsonpatch<2.0.0,>=1.33.0 in c:\\users\\gcf17\\desktop\\rag\\.venv\\lib\\site-packages (from langchain-core<2.0.0,>=0.3.75->langchain_community) (1.33)\n",
      "Requirement already satisfied: typing-extensions<5.0.0,>=4.7.0 in c:\\users\\gcf17\\desktop\\rag\\.venv\\lib\\site-packages (from langchain-core<2.0.0,>=0.3.75->langchain_community) (4.15.0)\n",
      "Requirement already satisfied: packaging<26.0.0,>=23.2.0 in c:\\users\\gcf17\\desktop\\rag\\.venv\\lib\\site-packages (from langchain-core<2.0.0,>=0.3.75->langchain_community) (25.0)\n",
      "Requirement already satisfied: jsonpointer>=1.9 in c:\\users\\gcf17\\desktop\\rag\\.venv\\lib\\site-packages (from jsonpatch<2.0.0,>=1.33.0->langchain-core<2.0.0,>=0.3.75->langchain_community) (3.0.0)\n",
      "Requirement already satisfied: httpx<1,>=0.23.0 in c:\\users\\gcf17\\desktop\\rag\\.venv\\lib\\site-packages (from langsmith<1.0.0,>=0.1.125->langchain_community) (0.28.1)\n",
      "Requirement already satisfied: orjson>=3.9.14 in c:\\users\\gcf17\\desktop\\rag\\.venv\\lib\\site-packages (from langsmith<1.0.0,>=0.1.125->langchain_community) (3.11.3)\n",
      "Requirement already satisfied: requests-toolbelt>=1.0.0 in c:\\users\\gcf17\\desktop\\rag\\.venv\\lib\\site-packages (from langsmith<1.0.0,>=0.1.125->langchain_community) (1.0.0)\n",
      "Requirement already satisfied: zstandard>=0.23.0 in c:\\users\\gcf17\\desktop\\rag\\.venv\\lib\\site-packages (from langsmith<1.0.0,>=0.1.125->langchain_community) (0.25.0)\n",
      "Requirement already satisfied: anyio in c:\\users\\gcf17\\desktop\\rag\\.venv\\lib\\site-packages (from httpx<1,>=0.23.0->langsmith<1.0.0,>=0.1.125->langchain_community) (4.11.0)\n",
      "Requirement already satisfied: certifi in c:\\users\\gcf17\\desktop\\rag\\.venv\\lib\\site-packages (from httpx<1,>=0.23.0->langsmith<1.0.0,>=0.1.125->langchain_community) (2025.8.3)\n",
      "Requirement already satisfied: httpcore==1.* in c:\\users\\gcf17\\desktop\\rag\\.venv\\lib\\site-packages (from httpx<1,>=0.23.0->langsmith<1.0.0,>=0.1.125->langchain_community) (1.0.9)\n",
      "Requirement already satisfied: idna in c:\\users\\gcf17\\desktop\\rag\\.venv\\lib\\site-packages (from httpx<1,>=0.23.0->langsmith<1.0.0,>=0.1.125->langchain_community) (3.10)\n",
      "Requirement already satisfied: h11>=0.16 in c:\\users\\gcf17\\desktop\\rag\\.venv\\lib\\site-packages (from httpcore==1.*->httpx<1,>=0.23.0->langsmith<1.0.0,>=0.1.125->langchain_community) (0.16.0)\n",
      "Requirement already satisfied: annotated-types>=0.6.0 in c:\\users\\gcf17\\desktop\\rag\\.venv\\lib\\site-packages (from pydantic<3.0.0,>=2.7.4->langchain<2.0.0,>=0.3.27->langchain_community) (0.7.0)\n",
      "Requirement already satisfied: pydantic-core==2.33.2 in c:\\users\\gcf17\\desktop\\rag\\.venv\\lib\\site-packages (from pydantic<3.0.0,>=2.7.4->langchain<2.0.0,>=0.3.27->langchain_community) (2.33.2)\n",
      "Requirement already satisfied: typing-inspection>=0.4.0 in c:\\users\\gcf17\\desktop\\rag\\.venv\\lib\\site-packages (from pydantic<3.0.0,>=2.7.4->langchain<2.0.0,>=0.3.27->langchain_community) (0.4.2)\n",
      "Requirement already satisfied: python-dotenv>=0.21.0 in c:\\users\\gcf17\\desktop\\rag\\.venv\\lib\\site-packages (from pydantic-settings<3.0.0,>=2.10.1->langchain_community) (1.1.1)\n",
      "Requirement already satisfied: charset_normalizer<4,>=2 in c:\\users\\gcf17\\desktop\\rag\\.venv\\lib\\site-packages (from requests<3.0.0,>=2.32.5->langchain_community) (3.4.3)\n",
      "Requirement already satisfied: urllib3<3,>=1.21.1 in c:\\users\\gcf17\\desktop\\rag\\.venv\\lib\\site-packages (from requests<3.0.0,>=2.32.5->langchain_community) (2.3.0)\n",
      "Requirement already satisfied: greenlet>=1 in c:\\users\\gcf17\\desktop\\rag\\.venv\\lib\\site-packages (from SQLAlchemy<3.0.0,>=1.4.0->langchain_community) (3.2.4)\n",
      "Requirement already satisfied: mypy-extensions>=0.3.0 in c:\\users\\gcf17\\desktop\\rag\\.venv\\lib\\site-packages (from typing-inspect<1,>=0.4.0->dataclasses-json<0.7.0,>=0.6.7->langchain_community) (1.1.0)\n",
      "Requirement already satisfied: exceptiongroup>=1.0.2 in c:\\users\\gcf17\\desktop\\rag\\.venv\\lib\\site-packages (from anyio->httpx<1,>=0.23.0->langsmith<1.0.0,>=0.1.125->langchain_community) (1.3.0)\n",
      "Requirement already satisfied: sniffio>=1.1 in c:\\users\\gcf17\\desktop\\rag\\.venv\\lib\\site-packages (from anyio->httpx<1,>=0.23.0->langsmith<1.0.0,>=0.1.125->langchain_community) (1.3.1)\n",
      "Note: you may need to restart the kernel to use updated packages.\n",
      "The TESS Objects of Interest Catalog from the TESS Prime Mission\n",
      "Natalia M. Guerrero1 , S. Seager1,2,3 , Chelsea X. Huang1,53 , Andrew Vanderburg4,5,54 , Aylin Garcia Soto6 ,\n",
      "Ismael Mireles1 , Katharine Hesse1 , William Fong1 , Ana Glidden1,2 , Avi Shporer1 , David W. Latham7 ,\n",
      "Karen A. Collins7 , S\n"
     ]
    }
   ],
   "source": [
    "%pip install pypdf\n",
    "%pip install langchain_community\n",
    "\n",
    "from langchain_community.document_loaders import PyPDFLoader\n",
    "\n",
    "loader = PyPDFLoader(\"1.pdf\")\n",
    "docs = loader.load()\n",
    "\n",
    "print(docs[0].page_content[:300])\n"
   ]
  },
  {
   "cell_type": "markdown",
   "id": "f8c89d2f",
   "metadata": {},
   "source": [
    "### Chunking"
   ]
  },
  {
   "cell_type": "code",
   "execution_count": 13,
   "id": "f03942df",
   "metadata": {},
   "outputs": [
    {
     "name": "stdout",
     "output_type": "stream",
     "text": [
      "320\n",
      "The TESS Objects of Interest Catalog from the TESS Prime Mission\n",
      "Natalia M. Guerrero1 , S. Seager1,2,3 , Chelsea X. Huang1,53 , Andrew Vanderburg4,5,54 , Aylin Garcia Soto6 ,\n",
      "Ismael Mireles1 , Katharine Hesse1 , William Fong1 , Ana Glidden1,2 , Avi Shporer1 , David W. Latham7 ,\n",
      "Karen A. Collins7 , Samuel N. Quinn7 , Jennifer Burt8 , Diana Dragomir9 , Ian Crossﬁeld1,10, Roland Vanderspek1 ,\n",
      "Michael Fausnaugh1 , Christopher J. Burke1 , George Ricker1 , Tansu Daylan1,55 , Zahra Essack1,2 ,\n"
     ]
    }
   ],
   "source": [
    "from langchain.text_splitter import RecursiveCharacterTextSplitter\n",
    "\n",
    "splitter = RecursiveCharacterTextSplitter(chunk_size=500, chunk_overlap=50)\n",
    "chunks = splitter.split_documents(docs)\n",
    "\n",
    "print(len(chunks))\n",
    "print(chunks[0].page_content)\n",
    "\n"
   ]
  },
  {
   "cell_type": "markdown",
   "id": "6c2bc726",
   "metadata": {},
   "source": [
    "### Embedding"
   ]
  },
  {
   "cell_type": "code",
   "execution_count": 14,
   "id": "cb36b39a",
   "metadata": {},
   "outputs": [
    {
     "name": "stdout",
     "output_type": "stream",
     "text": [
      "355\n"
     ]
    }
   ],
   "source": [
    "from langchain_huggingface.embeddings import HuggingFaceEmbeddings\n",
    "from langchain_chroma import Chroma\n",
    "\n",
    "embeddings = HuggingFaceEmbeddings(model_name=\"sentence-transformers/all-MiniLM-L6-v2\")\n",
    "\n",
    "vectordb = Chroma.from_documents(chunks, embedding=embeddings, persist_directory=\"chroma_db\",collection_name=\"testing\")\n",
    "\n",
    "print(vectordb._collection.count())\n"
   ]
  },
  {
   "cell_type": "code",
   "execution_count": 15,
   "id": "00013761",
   "metadata": {},
   "outputs": [
    {
     "name": "stdout",
     "output_type": "stream",
     "text": [
      "[-0.10597019642591476, 0.16800662875175476, 0.02391703799366951, 0.017985714599490166, 0.009284470230340958, 0.04012048617005348, 0.021706245839595795, -0.00509650306776166, -0.025474686175584793, 0.010306820273399353]\n"
     ]
    }
   ],
   "source": [
    "sample_vector = embeddings.embed_query(\"What is this document about?\")\n",
    "print(sample_vector[:10])"
   ]
  },
  {
   "cell_type": "markdown",
   "id": "3a9e8d9b",
   "metadata": {},
   "source": [
    "### Retrieval"
   ]
  },
  {
   "cell_type": "code",
   "execution_count": 16,
   "id": "c440c3a3",
   "metadata": {},
   "outputs": [],
   "source": [
    "retriever = vectordb.as_retriever(search_kwargs={\"k\": 3})"
   ]
  },
  {
   "cell_type": "markdown",
   "id": "f00dcfb5",
   "metadata": {},
   "source": [
    "### AI Model Definition"
   ]
  },
  {
   "cell_type": "code",
   "execution_count": 18,
   "id": "8e7db031",
   "metadata": {},
   "outputs": [],
   "source": [
    "import os\n",
    "from dotenv import load_dotenv\n",
    "from langchain_groq import ChatGroq\n",
    "from langchain.prompts import PromptTemplate\n",
    "from langchain.chains import RetrievalQA  \n",
    "\n",
    "load_dotenv()\n",
    "\n",
    "Qroq_api_key = os.getenv(\"GROQ_API_KEY\")\n",
    "\n",
    "llm = ChatGroq(model=\"openai/gpt-oss-20b\", api_key=Qroq_api_key)\n",
    "\n",
    "prompt = PromptTemplate(\n",
    "    input_variables=[\"context\", \"question\"],\n",
    "    template=\"\"\"\n",
    "You are an assistant. Use the retrieved context to answer the question.\n",
    "\n",
    "Context:\n",
    "{context}\n",
    "\n",
    "Question:\n",
    "{question}\n",
    "\"\"\"\n",
    ")\n",
    "\n",
    "rag_chain = RetrievalQA.from_chain_type(\n",
    "    llm=llm,\n",
    "    retriever=retriever,  \n",
    "    chain_type_kwargs={\n",
    "        \"prompt\": prompt,\n",
    "    },\n",
    ")\n"
   ]
  },
  {
   "cell_type": "markdown",
   "id": "7097b949",
   "metadata": {},
   "source": [
    "### Final Testing"
   ]
  },
  {
   "cell_type": "code",
   "execution_count": 19,
   "id": "e9c27648",
   "metadata": {},
   "outputs": [
    {
     "name": "stdout",
     "output_type": "stream",
     "text": [
      "Question: Tell me about light curves\n",
      "\n",
      "Answer:\n",
      "\n",
      "**Light curves – a quick guide**\n",
      "\n",
      "A *light curve* is simply a time‑series record of a star’s brightness (flux) measured in a given photometric band. In exoplanet studies the most common goal is to detect the tiny, periodic dimming that occurs when a planet passes (or *transits*) in front of its host star. The shape, depth, and duration of that dimming encode the planet’s size, orbital period, and sometimes even atmospheric properties.\n",
      "\n",
      "---\n",
      "\n",
      "### 1. Why light curves are noisy\n",
      "\n",
      "Real observations are never perfect. Several sources of low‑frequency variability contaminate the raw flux:\n",
      "\n",
      "| Source | Effect on light curve |\n",
      "|--------|-----------------------|\n",
      "| **Stellar activity** (spots, faculae, rotation) | Slow, quasi‑periodic brightness changes |\n",
      "| **Instrumental drifts** (thermal changes, focus shifts) | Long‑term trends, jumps |\n",
      "| **Spacecraft events** (momentum dumps, reaction‑wheel adjustments) | Sudden outliers or gaps |\n",
      "| **Scattered light** from the Earth or Sun | Target‑dependent background changes |\n",
      "\n",
      "These low‑frequency variations can dwarf the shallow, short‑duration signals from Earth‑size planets, so they must be removed before a transit search can be effective.\n",
      "\n",
      "---\n",
      "\n",
      "### 2. Pre‑processing: the QLP approach\n",
      "\n",
      "The *Quick Look Pipeline* (QLP) – described in Huang et al. 2020a,b – is designed to produce clean, transit‑ready light curves from the *Full‑Frame Images* (FFIs) taken by the *TESS* mission. Its key steps are:\n",
      "\n",
      "1. **B‑spline fitting**  \n",
      "   - A flexible, low‑order B‑spline is fit to the raw flux as a function of time.  \n",
      "   - The spline captures the slow, stellar‑ or instrument‑induced trends without affecting the short‑duration transit features.\n",
      "\n",
      "2. **Division by the spline**  \n",
      "   - The raw light curve is divided by the best‑fit spline, effectively normalising it to unity and flattening the low‑frequency variations.\n",
      "\n",
      "3. **Outlier removal**  \n",
      "   - Points flagged as outliers (e.g., during spacecraft momentum dumps) are identified and either interpolated over or excluded.\n",
      "\n",
      "4. **Scattered‑light flagging**  \n",
      "   - QLP automatically flags scattered‑light features at the *target star/cadence* level, improving the *specificity* of data‑gapping and preserving more usable data (as noted in the 2020 update).\n",
      "\n",
      "The result is a *flattened* light curve that retains the sharp, periodic dips caused by transits while suppressing the slowly varying background.\n",
      "\n",
      "---\n",
      "\n",
      "### 3. After pre‑processing: transit search and analysis\n",
      "\n",
      "Once the light curve is cleaned:\n",
      "\n",
      "- **Phase folding** is performed at a trial period to stack many transits together, boosting the signal‑to‑noise ratio.\n",
      "- **Transit fitting** (e.g., with a *white‑noise* model) yields parameters such as depth, duration, and mid‑transit time.\n",
      "- **Residual analysis** (e.g., binned residuals, odd‑even transit comparison) helps verify the planetary nature of the signal and check for systematic errors.\n",
      "\n",
      "The QLP pipeline’s output is often visualized with a “folded light curve” panel, a “whitened transit fit” overlay, and residual plots to assess the quality of the fit.\n",
      "\n",
      "---\n",
      "\n",
      "### 4. Bottom line\n",
      "\n",
      "- **Light curves** are the backbone of exoplanet detection.  \n",
      "- **Low‑frequency stellar and instrumental noise** must be filtered out, typically with spline fitting or other detrending techniques.  \n",
      "- The **QLP** provides a standardized, automated way to produce high‑quality, transit‑ready light curves from TESS FFIs, handling outliers and scattered‑light issues automatically.  \n",
      "\n",
      "With these steps, astronomers can reliably search for and characterize tiny, fleeting dips in stellar brightness that herald the presence of distant worlds.\n"
     ]
    }
   ],
   "source": [
    "query = \"Tell me about light curves\"\n",
    "\n",
    "answer = rag_chain.invoke(query)\n",
    "\n",
    "print(\"Question:\", query)\n",
    "print(\"\\nAnswer:\\n\")\n",
    "print(answer[\"result\"])\n"
   ]
  }
 ],
 "metadata": {
  "kernelspec": {
   "display_name": ".venv",
   "language": "python",
   "name": "python3"
  },
  "language_info": {
   "codemirror_mode": {
    "name": "ipython",
    "version": 3
   },
   "file_extension": ".py",
   "mimetype": "text/x-python",
   "name": "python",
   "nbconvert_exporter": "python",
   "pygments_lexer": "ipython3",
   "version": "3.10.0"
  }
 },
 "nbformat": 4,
 "nbformat_minor": 5
}
